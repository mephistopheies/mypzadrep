{
 "cells": [
  {
   "cell_type": "code",
   "execution_count": 1,
   "metadata": {
    "collapsed": true
   },
   "outputs": [],
   "source": [
    "%matplotlib inline\n",
    "import numpy as np\n",
    "import matplotlib.pyplot as plt\n",
    "from sklearn import preprocessing\n",
    "import pandas as pd\n",
    "pd.set_option('display.max_columns', 500)\n",
    "import pickle\n",
    "import seaborn as sns\n",
    "import datetime\n",
    "import multiprocessing\n",
    "import itertools as it\n",
    "import statsmodels.api as sm\n",
    "from sklearn.linear_model import LinearRegression, ElasticNetCV\n",
    "sns.set_style(\"dark\")\n",
    "plt.rcParams['figure.figsize'] = 16, 12"
   ]
  },
  {
   "cell_type": "code",
   "execution_count": 2,
   "metadata": {
    "collapsed": true
   },
   "outputs": [],
   "source": [
    "df_test = pd.read_pickle('./../data/df_base.pkl')"
   ]
  },
  {
   "cell_type": "code",
   "execution_count": null,
   "metadata": {
    "collapsed": false
   },
   "outputs": [],
   "source": []
  },
  {
   "cell_type": "code",
   "execution_count": null,
   "metadata": {
    "collapsed": true
   },
   "outputs": [],
   "source": []
  },
  {
   "cell_type": "code",
   "execution_count": 153,
   "metadata": {
    "collapsed": true
   },
   "outputs": [],
   "source": [
    "def weighted_norm_mean(x, p=2.0):\n",
    "    w = np.linspace(1, 0.1, x.shape[0])**p\n",
    "    w = w/w.sum()\n",
    "    return np.dot(x,w)\n",
    "\n",
    "req_cols = set(['DayOfWeek', 'Store'])\n",
    "cat_cols = ['Open', 'Promo', 'StateHoliday_0', 'StateHoliday_a', 'SchoolHoliday', 'HasCompetition']"
   ]
  },
  {
   "cell_type": "code",
   "execution_count": 158,
   "metadata": {
    "collapsed": true
   },
   "outputs": [],
   "source": [
    "def calculate_aggregations(df, req_cols, cat_cols, agg_func=np.mean, verbose=True):\n",
    "    \n",
    "    def extract_key(cols, d):\n",
    "        res = []\n",
    "        for c in cols:\n",
    "            res.append(d[c])\n",
    "        return res\n",
    "    \n",
    "    df = df.loc[pd.notnull(df_test['Sales'])].copy()\n",
    "    df['Store'] = df.index.get_level_values(0)\n",
    "    \n",
    "    col_combinations = [req_cols] + \\\n",
    "        map(lambda a: a.union(req_cols), \n",
    "            reduce(lambda a, b: a + b, \n",
    "                   map(lambda n: map(set, it.combinations(cat_cols, n)), \n",
    "                       range(1, 6))))\n",
    "        \n",
    "    series_agg = df[list(req_cols)].to_dict('index')\n",
    "    cols_agg = dict([(k, []) for k in series_agg.keys()])\n",
    "\n",
    "    for cols in col_combinations:\n",
    "        if verbose:\n",
    "            print cols\n",
    "        start_time = datetime.datetime.now()\n",
    "        cols = list(cols)\n",
    "        dict_agg = df.groupby(cols)['Sales'].apply(weighted_norm_mean).to_dict()\n",
    "        dict_df = df[cols].to_dict('index')\n",
    "        for k in dict_df.keys():\n",
    "            cols_agg[k].append(dict_agg[tuple(extract_key(cols, dict_df[k]))])\n",
    "        if verbose:\n",
    "            print (datetime.datetime.now() - start_time).total_seconds()\n",
    "    \n",
    "    return cols_agg"
   ]
  },
  {
   "cell_type": "code",
   "execution_count": 159,
   "metadata": {
    "collapsed": false
   },
   "outputs": [
    {
     "name": "stdout",
     "output_type": "stream",
     "text": [
      "set(['DayOfWeek', 'Store'])\n",
      "73.32093\n",
      "set(['DayOfWeek', 'Open', 'Store'])\n",
      "48.787956\n",
      "set(['Promo', 'DayOfWeek', 'Store'])\n",
      "74.376554\n",
      "set(['DayOfWeek', 'StateHoliday_0', 'Store'])\n",
      "45.509155\n",
      "set(['DayOfWeek', 'StateHoliday_a', 'Store'])\n",
      "45.687825\n",
      "set(['DayOfWeek', 'SchoolHoliday', 'Store'])\n",
      "72.774753\n",
      "set(['DayOfWeek', 'HasCompetition', 'Store'])\n",
      "44.202931\n",
      "set(['Promo', 'DayOfWeek', 'Open', 'Store'])\n",
      "46.959709\n",
      "set(['DayOfWeek', 'StateHoliday_0', 'Open', 'Store'])\n",
      "46.13478\n",
      "set(['DayOfWeek', 'StateHoliday_a', 'Open', 'Store'])\n",
      "46.823678\n",
      "set(['DayOfWeek', 'Open', 'SchoolHoliday', 'Store'])\n",
      "47.887602\n",
      "set(['DayOfWeek', 'HasCompetition', 'Open', 'Store'])\n",
      "45.877014\n",
      "set(['Promo', 'DayOfWeek', 'StateHoliday_0', 'Store'])\n",
      "47.602385\n",
      "set(['Promo', 'DayOfWeek', 'StateHoliday_a', 'Store'])\n",
      "47.465361\n",
      "set(['Promo', 'DayOfWeek', 'SchoolHoliday', 'Store'])\n",
      "76.148926\n",
      "set(['Promo', 'DayOfWeek', 'HasCompetition', 'Store'])\n",
      "45.530697\n",
      "set(['DayOfWeek', 'StateHoliday_0', 'StateHoliday_a', 'Store'])\n",
      "46.796514\n",
      "set(['DayOfWeek', 'StateHoliday_0', 'SchoolHoliday', 'Store'])\n",
      "47.220743\n",
      "set(['DayOfWeek', 'StateHoliday_0', 'HasCompetition', 'Store'])\n",
      "45.396967\n",
      "set(['DayOfWeek', 'StateHoliday_a', 'SchoolHoliday', 'Store'])\n",
      "46.731983\n",
      "set(['DayOfWeek', 'StateHoliday_a', 'Store', 'HasCompetition'])\n",
      "45.57818\n",
      "set(['DayOfWeek', 'HasCompetition', 'SchoolHoliday', 'Store'])\n",
      "46.46706\n",
      "set(['Promo', 'DayOfWeek', 'StateHoliday_0', 'Open', 'Store'])\n",
      "48.502562\n",
      "set(['Promo', 'DayOfWeek', 'StateHoliday_a', 'Open', 'Store'])\n",
      "49.634414\n",
      "set(['Promo', 'DayOfWeek', 'Open', 'SchoolHoliday', 'Store'])\n",
      "50.309742\n",
      "set(['Promo', 'DayOfWeek', 'HasCompetition', 'Open', 'Store'])\n",
      "48.509362\n",
      "set(['DayOfWeek', 'StateHoliday_0', 'StateHoliday_a', 'Open', 'Store'])\n",
      "47.191898\n",
      "set(['DayOfWeek', 'StateHoliday_0', 'Open', 'SchoolHoliday', 'Store'])\n",
      "48.872604\n",
      "set(['DayOfWeek', 'StateHoliday_0', 'HasCompetition', 'Open', 'Store'])\n",
      "46.934069\n",
      "set(['DayOfWeek', 'StateHoliday_a', 'Open', 'SchoolHoliday', 'Store'])\n",
      "49.153844\n",
      "set(['DayOfWeek', 'StateHoliday_a', 'Open', 'Store', 'HasCompetition'])\n",
      "47.300273\n",
      "set(['DayOfWeek', 'HasCompetition', 'Open', 'SchoolHoliday', 'Store'])\n",
      "48.568923\n",
      "set(['Promo', 'DayOfWeek', 'StateHoliday_0', 'StateHoliday_a', 'Store'])\n",
      "50.084764\n",
      "set(['Promo', 'DayOfWeek', 'StateHoliday_0', 'SchoolHoliday', 'Store'])\n",
      "51.46533\n",
      "set(['Promo', 'DayOfWeek', 'StateHoliday_0', 'HasCompetition', 'Store'])\n",
      "47.595146\n",
      "set(['Promo', 'DayOfWeek', 'StateHoliday_a', 'SchoolHoliday', 'Store'])\n",
      "50.201408\n",
      "set(['Promo', 'DayOfWeek', 'StateHoliday_a', 'Store', 'HasCompetition'])\n",
      "47.541092\n",
      "set(['Promo', 'DayOfWeek', 'HasCompetition', 'SchoolHoliday', 'Store'])\n",
      "48.919529\n",
      "set(['DayOfWeek', 'StateHoliday_0', 'StateHoliday_a', 'SchoolHoliday', 'Store'])\n",
      "48.029025\n",
      "set(['DayOfWeek', 'StateHoliday_0', 'StateHoliday_a', 'Store', 'HasCompetition'])\n",
      "46.351725\n",
      "set(['DayOfWeek', 'StateHoliday_0', 'HasCompetition', 'SchoolHoliday', 'Store'])\n",
      "47.332189\n",
      "set(['DayOfWeek', 'StateHoliday_a', 'SchoolHoliday', 'Store', 'HasCompetition'])\n",
      "48.672189\n",
      "set(['DayOfWeek', 'StateHoliday_0', 'StateHoliday_a', 'Promo', 'Open', 'Store'])\n",
      "53.649553\n",
      "set(['DayOfWeek', 'StateHoliday_0', 'Promo', 'Open', 'SchoolHoliday', 'Store'])\n",
      "52.665814\n",
      "set(['DayOfWeek', 'StateHoliday_0', 'HasCompetition', 'Promo', 'Open', 'Store'])\n",
      "49.778323\n",
      "set(['DayOfWeek', 'StateHoliday_a', 'Promo', 'Open', 'SchoolHoliday', 'Store'])\n",
      "52.988657\n",
      "set(['DayOfWeek', 'StateHoliday_a', 'Promo', 'Open', 'Store', 'HasCompetition'])\n",
      "51.737674\n",
      "set(['DayOfWeek', 'HasCompetition', 'Promo', 'Open', 'SchoolHoliday', 'Store'])\n",
      "52.336018\n",
      "set(['DayOfWeek', 'StateHoliday_0', 'StateHoliday_a', 'Open', 'SchoolHoliday', 'Store'])\n",
      "49.811534\n",
      "set(['DayOfWeek', 'StateHoliday_0', 'StateHoliday_a', 'Open', 'Store', 'HasCompetition'])\n",
      "48.482563\n",
      "set(['DayOfWeek', 'StateHoliday_0', 'HasCompetition', 'Open', 'SchoolHoliday', 'Store'])\n",
      "50.162843\n",
      "set(['DayOfWeek', 'StateHoliday_a', 'Open', 'SchoolHoliday', 'Store', 'HasCompetition'])\n",
      "50.016844\n",
      "set(['DayOfWeek', 'StateHoliday_0', 'StateHoliday_a', 'Promo', 'SchoolHoliday', 'Store'])\n",
      "53.665402\n",
      "set(['DayOfWeek', 'StateHoliday_0', 'StateHoliday_a', 'Promo', 'Store', 'HasCompetition'])\n",
      "51.239097\n",
      "set(['DayOfWeek', 'StateHoliday_0', 'HasCompetition', 'Promo', 'SchoolHoliday', 'Store'])\n",
      "52.006436\n",
      "set(['DayOfWeek', 'StateHoliday_a', 'Promo', 'SchoolHoliday', 'Store', 'HasCompetition'])\n",
      "52.592499\n",
      "set(['DayOfWeek', 'StateHoliday_0', 'StateHoliday_a', 'SchoolHoliday', 'Store', 'HasCompetition'])\n",
      "50.56627\n",
      "set(['DayOfWeek', 'StateHoliday_0', 'StateHoliday_a', 'Promo', 'Open', 'SchoolHoliday', 'Store'])\n",
      "52.589683\n",
      "set(['DayOfWeek', 'StateHoliday_0', 'StateHoliday_a', 'Promo', 'Open', 'Store', 'HasCompetition'])\n",
      "51.63323\n",
      "set(['DayOfWeek', 'StateHoliday_0', 'HasCompetition', 'Promo', 'Open', 'SchoolHoliday', 'Store'])\n",
      "52.909655\n",
      "set(['DayOfWeek', 'StateHoliday_a', 'Promo', 'Open', 'SchoolHoliday', 'Store', 'HasCompetition'])\n",
      "52.740368\n",
      "set(['DayOfWeek', 'StateHoliday_0', 'StateHoliday_a', 'Open', 'SchoolHoliday', 'Store', 'HasCompetition'])\n",
      "49.430426\n",
      "set(['DayOfWeek', 'StateHoliday_0', 'StateHoliday_a', 'Promo', 'SchoolHoliday', 'Store', 'HasCompetition'])\n",
      "51.904403\n"
     ]
    }
   ],
   "source": [
    "agg = calculate_aggregations(df_test, req_cols, cat_cols, weighted_norm_mean)"
   ]
  },
  {
   "cell_type": "code",
   "execution_count": null,
   "metadata": {
    "collapsed": false
   },
   "outputs": [],
   "source": []
  },
  {
   "cell_type": "code",
   "execution_count": null,
   "metadata": {
    "collapsed": false
   },
   "outputs": [],
   "source": []
  },
  {
   "cell_type": "code",
   "execution_count": null,
   "metadata": {
    "collapsed": false
   },
   "outputs": [],
   "source": []
  },
  {
   "cell_type": "code",
   "execution_count": 108,
   "metadata": {
    "collapsed": false
   },
   "outputs": [],
   "source": []
  },
  {
   "cell_type": "code",
   "execution_count": null,
   "metadata": {
    "collapsed": false
   },
   "outputs": [],
   "source": []
  },
  {
   "cell_type": "code",
   "execution_count": null,
   "metadata": {
    "collapsed": false
   },
   "outputs": [],
   "source": []
  },
  {
   "cell_type": "code",
   "execution_count": null,
   "metadata": {
    "collapsed": true
   },
   "outputs": [],
   "source": []
  },
  {
   "cell_type": "code",
   "execution_count": null,
   "metadata": {
    "collapsed": false
   },
   "outputs": [],
   "source": []
  },
  {
   "cell_type": "code",
   "execution_count": null,
   "metadata": {
    "collapsed": true
   },
   "outputs": [],
   "source": []
  },
  {
   "cell_type": "code",
   "execution_count": null,
   "metadata": {
    "collapsed": true
   },
   "outputs": [],
   "source": []
  }
 ],
 "metadata": {
  "kernelspec": {
   "display_name": "Python 2",
   "language": "python",
   "name": "python2"
  },
  "language_info": {
   "codemirror_mode": {
    "name": "ipython",
    "version": 2
   },
   "file_extension": ".py",
   "mimetype": "text/x-python",
   "name": "python",
   "nbconvert_exporter": "python",
   "pygments_lexer": "ipython2",
   "version": "2.7.9"
  }
 },
 "nbformat": 4,
 "nbformat_minor": 0
}
