{
 "cells": [
  {
   "cell_type": "code",
   "execution_count": 1,
   "metadata": {
    "collapsed": true
   },
   "outputs": [],
   "source": [
    "%matplotlib inline\n",
    "import numpy as np\n",
    "import matplotlib.pyplot as plt\n",
    "from sklearn import preprocessing\n",
    "import pandas as pd\n",
    "pd.set_option('display.max_columns', 500)\n",
    "import pickle\n",
    "import seaborn as sns\n",
    "import datetime\n",
    "import multiprocessing\n",
    "import statsmodels.api as sm\n",
    "from sklearn.linear_model import LinearRegression, ElasticNetCV\n",
    "sns.set_style(\"dark\")\n",
    "plt.rcParams['figure.figsize'] = 16, 12"
   ]
  },
  {
   "cell_type": "code",
   "execution_count": 2,
   "metadata": {
    "collapsed": true
   },
   "outputs": [],
   "source": [
    "df_test = pd.read_pickle('./../data/df_base.pkl')\n",
    "df_valid = pd.read_pickle('./../data/df_valid.pkl')\n",
    "df_y_valid = pd.read_pickle('./../data/df_y_valid.pkl')"
   ]
  },
  {
   "cell_type": "code",
   "execution_count": 4,
   "metadata": {
    "collapsed": false
   },
   "outputs": [],
   "source": [
    "def extract_past_sales(df, n_prev_days=14, n_prev_weeks=4):\n",
    "    df = df.copy()\n",
    "\n",
    "    date_offsets = list(set(range(1, n_prev_days + 1)).union(map(lambda x: x*7, range(1, n_prev_weeks + 1))))\n",
    "\n",
    "    def get_prev_dates(base_date, offsets):\n",
    "        return dict(map(lambda i: (i, base_date - datetime.timedelta(days=i)), offsets))\n",
    "\n",
    "    date_offsets_cols = dict(map(lambda i: (i, 'PrevDaySale_%i' % i), date_offsets))\n",
    "\n",
    "    def add_day_offsets_columns(df, day_offsets):\n",
    "        df = df.copy()\n",
    "        for i in day_offsets:\n",
    "            df[date_offsets_cols[i]] = np.nan\n",
    "        return df\n",
    "\n",
    "    #df_tmp = add_day_offsets_columns(df_valid, date_offsets)\n",
    "    #df = df_valid.copy()\n",
    "\n",
    "    store_date_sales_cache = df['Sales'].to_dict()\n",
    "\n",
    "    prev_sales = []\n",
    "    for store_id, date in store_date_sales_cache.keys():\n",
    "        row = []\n",
    "        for offset in date_offsets:\n",
    "            prev_date = date - datetime.timedelta(days=offset)\n",
    "            row.append(store_date_sales_cache[(store_id, prev_date)] \\\n",
    "                           if (store_id, prev_date) in store_date_sales_cache else np.nan)\n",
    "        prev_sales.append([store_id, date] + row)\n",
    "\n",
    "    df_past = pd.DataFrame.from_dict(prev_sales)\n",
    "    df_past.columns = ['Store', 'Date'] + map(lambda i: date_offsets_cols[date_offsets[i]], range(len(list(date_offsets))))\n",
    "    df_past = df_past.set_index(['Store', 'Date'])\n",
    "\n",
    "    df = df.join(df_past, how='outer')\n",
    "    return df"
   ]
  },
  {
   "cell_type": "code",
   "execution_count": 5,
   "metadata": {
    "collapsed": true
   },
   "outputs": [],
   "source": [
    "n_prev_days=31\n",
    "n_prev_weeks=12\n",
    "df_test = extract_past_sales(df_test, n_prev_days=n_prev_days, n_prev_weeks=n_prev_weeks)\n",
    "df_valid = extract_past_sales(df_valid, n_prev_days=n_prev_days, n_prev_weeks=n_prev_weeks)"
   ]
  },
  {
   "cell_type": "code",
   "execution_count": 6,
   "metadata": {
    "collapsed": true
   },
   "outputs": [],
   "source": [
    "df_test.to_pickle('./../data/df_test_past_d%i_w%i.pkl' % (n_prev_days, n_prev_weeks))\n",
    "df_valid.to_pickle('./../data/df_valid_past_d%i_w%i.pkl' % (n_prev_days, n_prev_weeks))"
   ]
  },
  {
   "cell_type": "code",
   "execution_count": null,
   "metadata": {
    "collapsed": false
   },
   "outputs": [],
   "source": []
  },
  {
   "cell_type": "code",
   "execution_count": null,
   "metadata": {
    "collapsed": false
   },
   "outputs": [],
   "source": []
  },
  {
   "cell_type": "code",
   "execution_count": null,
   "metadata": {
    "collapsed": true
   },
   "outputs": [],
   "source": []
  },
  {
   "cell_type": "code",
   "execution_count": null,
   "metadata": {
    "collapsed": false
   },
   "outputs": [],
   "source": []
  },
  {
   "cell_type": "code",
   "execution_count": null,
   "metadata": {
    "collapsed": true
   },
   "outputs": [],
   "source": []
  }
 ],
 "metadata": {
  "kernelspec": {
   "display_name": "Python 2",
   "language": "python",
   "name": "python2"
  },
  "language_info": {
   "codemirror_mode": {
    "name": "ipython",
    "version": 2
   },
   "file_extension": ".py",
   "mimetype": "text/x-python",
   "name": "python",
   "nbconvert_exporter": "python",
   "pygments_lexer": "ipython2",
   "version": "2.7.9"
  }
 },
 "nbformat": 4,
 "nbformat_minor": 0
}
