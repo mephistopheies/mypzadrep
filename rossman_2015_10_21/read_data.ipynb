{
 "cells": [
  {
   "cell_type": "code",
   "execution_count": 1,
   "metadata": {
    "collapsed": true
   },
   "outputs": [],
   "source": [
    "%matplotlib inline\n",
    "import numpy as np\n",
    "import matplotlib.pyplot as plt\n",
    "plt.rcParams['figure.figsize'] = 16, 12\n",
    "from sklearn import preprocessing\n",
    "import pandas as pd\n",
    "pd.set_option('display.max_columns', 500)\n",
    "import pickle\n",
    "import seaborn as sns\n",
    "import datetime\n",
    "import multiprocessing\n",
    "import statsmodels.api as sm\n",
    "sns.set_style(\"dark\")"
   ]
  },
  {
   "cell_type": "code",
   "execution_count": 2,
   "metadata": {
    "collapsed": false
   },
   "outputs": [
    {
     "name": "stderr",
     "output_type": "stream",
     "text": [
      "/usr/local/lib/python2.7/site-packages/IPython/core/interactiveshell.py:2902: DtypeWarning: Columns (7) have mixed types. Specify dtype option on import or set low_memory=False.\n",
      "  interactivity=interactivity, compiler=compiler, result=result)\n"
     ]
    }
   ],
   "source": [
    "# read and create single dataframe\n",
    "\n",
    "df_train = pd.read_csv('./../data/raw/train.csv', \n",
    "                       infer_datetime_format=True, parse_dates=['Date'],\n",
    "                       index_col=['Store', 'Date'])\n",
    "df_test = pd.read_csv('./../data/raw/test.csv', \n",
    "                      infer_datetime_format=True, parse_dates=['Date'],\n",
    "                      index_col=['Store', 'Date'])\n",
    "df_stores = pd.read_csv('./../data/raw/store.csv', index_col='Store')\n",
    "\n",
    "# df_train['IsTest'] = False\n",
    "# df_test['IsTest'] = True\n",
    "# df_test['IsValid'] = False\n",
    "\n",
    "\n",
    "df = df_train.append(df_test, ignore_index=False)\n",
    "df = df[['Id', 'Sales', 'Customers', 'Open', 'Promo', 'SchoolHoliday', 'StateHoliday', 'DayOfWeek']] #, 'IsTest']]\n",
    "df['Year'] = df.index.to_series().apply(lambda r: r[1].year)\n",
    "df['Month'] = df.index.to_series().apply(lambda r: r[1].month)\n",
    "df = df.join(pd.get_dummies(df['Year'], prefix='Year')).drop('Year', 1)\n",
    "df = df.join(pd.get_dummies(df['Month'], prefix='Month')).drop('Month', 1)\n",
    "\n",
    "df_stores = df_stores.join(pd.get_dummies(df_stores['StoreType'], prefix='StoreType')).drop('StoreType', 1)\n",
    "df_stores = df_stores.join(pd.get_dummies(df_stores['Assortment'], prefix='Assortment')).drop('Assortment', 1)\n",
    "df_stores = df_stores.join(pd.get_dummies(df_stores['PromoInterval'], prefix='PromoInterval')).drop('PromoInterval', 1)\n",
    "\n",
    "\n",
    "df_stores.loc[df_stores['CompetitionDistance'].isnull(), 'CompetitionDistance'] = df_stores['CompetitionDistance'].max()\n",
    "df_stores['LogCompetitionDistance'] = np.log(df_stores['CompetitionDistance'])\n",
    "df_stores = df_stores[['StoreType_a', 'StoreType_b', 'StoreType_c', 'StoreType_d', \n",
    "                       'Assortment_a', 'Assortment_b', 'Assortment_c', \n",
    "                       'CompetitionDistance', 'LogCompetitionDistance', \n",
    "                       'CompetitionOpenSinceMonth', 'CompetitionOpenSinceYear',\n",
    "                       'Promo2', 'Promo2SinceWeek', 'Promo2SinceYear', \n",
    "                       'PromoInterval_Feb,May,Aug,Nov', 'PromoInterval_Jan,Apr,Jul,Oct', \n",
    "                       'PromoInterval_Mar,Jun,Sept,Dec']]\n",
    "\n",
    "df['Store'] = df.index.to_series().apply(lambda r: r[0])\n",
    "df = df.join(df_stores, on='Store').drop('Store', 1)\n",
    "\n",
    "\n",
    "def transform_competition_open_since_year_diff(i):\n",
    "    if np.isnan(i):\n",
    "        return np.nan\n",
    "    if i >= 10:\n",
    "        return 10\n",
    "    if i >= 5:\n",
    "        return 5\n",
    "    if i >= 3:\n",
    "        return 3\n",
    "    return i\n",
    "    \n",
    "df = df.join(\n",
    "    pd.get_dummies(df['CompetitionOpenSinceYear'].\\\n",
    "                        apply(lambda i: np.nan if np.isnan(i) else 2015 - i).\\\n",
    "                        apply(transform_competition_open_since_year_diff),\n",
    "                   prefix='CompetitionOpenSinceYear')).\\\n",
    "    drop('CompetitionOpenSinceYear', 1)\n",
    "\n",
    "df.loc[df['StateHoliday'] == 0, 'StateHoliday'] = '0'\n",
    "df = df.join(pd.get_dummies(df['StateHoliday'], prefix='StateHoliday')).drop('StateHoliday', 1)\n",
    "\n",
    "    \n",
    "df = df.sortlevel(1)\n",
    "\n",
    "df.to_pickle('./../data/df_base.pkl')\n",
    "\n",
    "\n",
    "#-----------\n",
    "\n",
    "df = df[pd.notnull(df['Sales'])].copy()\n",
    "n_valids = 48\n",
    "df_y_list = []\n",
    "for store_id in set(map(lambda t: t[0], df.index)):\n",
    "    dates = sorted(df.iloc[(store_id,)].index.tolist())\n",
    "    max_date = max(dates)\n",
    "    #print store_id, max_date\n",
    "    valid_dates = map(lambda i: max_date - datetime.timedelta(days=i), range(n_valids))\n",
    "    idx = df.index.isin(zip([store_id]*len(valid_dates), valid_dates))\n",
    "    df_y_list.append(df.ix[idx, 'Sales'])\n",
    "    df.ix[idx, 'Sales'] = np.nan\n",
    "\n",
    "df.to_pickle('./../data/df_valid.pkl')\n",
    "\n",
    "df_y_valid = reduce(lambda a, b: pd.concat([a, b], axis=0), df_y_list)\n",
    "\n",
    "df_y_valid.to_pickle('./../data/df_y_valid.pkl')"
   ]
  },
  {
   "cell_type": "code",
   "execution_count": null,
   "metadata": {
    "collapsed": false
   },
   "outputs": [],
   "source": []
  },
  {
   "cell_type": "code",
   "execution_count": null,
   "metadata": {
    "collapsed": false
   },
   "outputs": [],
   "source": []
  },
  {
   "cell_type": "code",
   "execution_count": null,
   "metadata": {
    "collapsed": false
   },
   "outputs": [],
   "source": []
  },
  {
   "cell_type": "code",
   "execution_count": null,
   "metadata": {
    "collapsed": true
   },
   "outputs": [],
   "source": []
  },
  {
   "cell_type": "code",
   "execution_count": null,
   "metadata": {
    "collapsed": true
   },
   "outputs": [],
   "source": []
  },
  {
   "cell_type": "code",
   "execution_count": null,
   "metadata": {
    "collapsed": false,
    "scrolled": false
   },
   "outputs": [],
   "source": []
  },
  {
   "cell_type": "code",
   "execution_count": null,
   "metadata": {
    "collapsed": true
   },
   "outputs": [],
   "source": []
  },
  {
   "cell_type": "code",
   "execution_count": null,
   "metadata": {
    "collapsed": false
   },
   "outputs": [],
   "source": []
  },
  {
   "cell_type": "code",
   "execution_count": null,
   "metadata": {
    "collapsed": false
   },
   "outputs": [],
   "source": []
  },
  {
   "cell_type": "code",
   "execution_count": null,
   "metadata": {
    "collapsed": false
   },
   "outputs": [],
   "source": []
  },
  {
   "cell_type": "code",
   "execution_count": null,
   "metadata": {
    "collapsed": true
   },
   "outputs": [],
   "source": []
  },
  {
   "cell_type": "code",
   "execution_count": null,
   "metadata": {
    "collapsed": false
   },
   "outputs": [],
   "source": []
  },
  {
   "cell_type": "code",
   "execution_count": null,
   "metadata": {
    "collapsed": false
   },
   "outputs": [],
   "source": []
  },
  {
   "cell_type": "code",
   "execution_count": null,
   "metadata": {
    "collapsed": false
   },
   "outputs": [],
   "source": []
  },
  {
   "cell_type": "code",
   "execution_count": null,
   "metadata": {
    "collapsed": false
   },
   "outputs": [],
   "source": []
  },
  {
   "cell_type": "code",
   "execution_count": null,
   "metadata": {
    "collapsed": true
   },
   "outputs": [],
   "source": []
  },
  {
   "cell_type": "code",
   "execution_count": null,
   "metadata": {
    "collapsed": true
   },
   "outputs": [],
   "source": []
  }
 ],
 "metadata": {
  "kernelspec": {
   "display_name": "Python 2",
   "language": "python",
   "name": "python2"
  },
  "language_info": {
   "codemirror_mode": {
    "name": "ipython",
    "version": 2
   },
   "file_extension": ".py",
   "mimetype": "text/x-python",
   "name": "python",
   "nbconvert_exporter": "python",
   "pygments_lexer": "ipython2",
   "version": "2.7.9"
  }
 },
 "nbformat": 4,
 "nbformat_minor": 0
}
